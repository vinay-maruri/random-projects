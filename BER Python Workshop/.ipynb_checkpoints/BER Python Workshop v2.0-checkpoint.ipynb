{
 "cells": [
  {
   "cell_type": "code",
   "execution_count": null,
   "metadata": {},
   "outputs": [],
   "source": [
    "import numpy as np\n",
    "import pandas as pd\n",
    "import seaborn as sns\n",
    "import matplotlib.pyplot as plt\n",
    "import sklearn as sk\n",
    "from numpy import random \n",
    "#Author: Vinay Maruri, email: vmaruri1@berkeley.edu"
   ]
  },
  {
   "cell_type": "code",
   "execution_count": null,
   "metadata": {},
   "outputs": [],
   "source": [
    "#First off is Building Coding Intuition!!:"
   ]
  },
  {
   "cell_type": "code",
   "execution_count": null,
   "metadata": {},
   "outputs": [],
   "source": [
    "#https://cs61a.org/lab/lab01/ (open)\n",
    "#credits: CS61A course staff and instructors (used for educational purposes)"
   ]
  },
  {
   "cell_type": "code",
   "execution_count": null,
   "metadata": {},
   "outputs": [],
   "source": [
    "#Write a function below that computes whether or not a given digit has adjacent 8's\n",
    "#return true/false.\n",
    "def double_eights(n):\n",
    "    #write code here"
   ]
  },
  {
   "cell_type": "code",
   "execution_count": null,
   "metadata": {},
   "outputs": [],
   "source": [
    "#now can you right the same thing recursively?\n",
    "#return true/false.\n",
    "#assume that boo is initialized to none.\n",
    "def double_eightsrecur(n, boo):\n",
    "    #write code here"
   ]
  },
  {
   "cell_type": "code",
   "execution_count": null,
   "metadata": {},
   "outputs": [],
   "source": [
    "#Tests to verify if your functions work properly (you should pass all)"
   ]
  },
  {
   "cell_type": "code",
   "execution_count": null,
   "metadata": {},
   "outputs": [],
   "source": [
    "print(double_eights(888))"
   ]
  },
  {
   "cell_type": "code",
   "execution_count": null,
   "metadata": {},
   "outputs": [],
   "source": [
    "print(double_eights(129031832912889090019230))"
   ]
  },
  {
   "cell_type": "code",
   "execution_count": null,
   "metadata": {},
   "outputs": [],
   "source": [
    "print(double_eights(8))"
   ]
  },
  {
   "cell_type": "code",
   "execution_count": null,
   "metadata": {},
   "outputs": [],
   "source": [
    "print(double_eightsrecur(88, None))"
   ]
  },
  {
   "cell_type": "code",
   "execution_count": null,
   "metadata": {},
   "outputs": [],
   "source": [
    "print(double_eightsrecur(88, None))"
   ]
  },
  {
   "cell_type": "code",
   "execution_count": null,
   "metadata": {},
   "outputs": [],
   "source": [
    "print(double_eightsrecur(8, None))"
   ]
  },
  {
   "cell_type": "code",
   "execution_count": null,
   "metadata": {},
   "outputs": [],
   "source": [
    "print(double_eightsrecur(129031832912889090019230, None))"
   ]
  },
  {
   "cell_type": "code",
   "execution_count": null,
   "metadata": {},
   "outputs": [],
   "source": [
    "#numpy is Python's big mathematics library"
   ]
  },
  {
   "cell_type": "code",
   "execution_count": null,
   "metadata": {},
   "outputs": [],
   "source": [
    "data = np.array([1,2,3,4,5,6,7,8,9]) # right\n",
    "print(data)\n",
    "\n",
    "#Creating a nice basic array."
   ]
  },
  {
   "cell_type": "code",
   "execution_count": null,
   "metadata": {},
   "outputs": [],
   "source": [
    "data = np.array(range (1000))\n",
    "print(data)\n",
    "#Create big array."
   ]
  },
  {
   "cell_type": "code",
   "execution_count": null,
   "metadata": {},
   "outputs": [],
   "source": [
    "data[2]\n",
    "#indexing into an array."
   ]
  },
  {
   "cell_type": "code",
   "execution_count": null,
   "metadata": {},
   "outputs": [],
   "source": [
    "data[0:5]\n",
    "#slicing into an array"
   ]
  },
  {
   "cell_type": "code",
   "execution_count": null,
   "metadata": {},
   "outputs": [],
   "source": [
    "#livecode example of skipping elements"
   ]
  },
  {
   "cell_type": "code",
   "execution_count": null,
   "metadata": {},
   "outputs": [],
   "source": [
    "#Arrays use much less memory than lists. Please use arrays whenever possible for efficiency."
   ]
  },
  {
   "cell_type": "code",
   "execution_count": null,
   "metadata": {},
   "outputs": [],
   "source": [
    "#Numpy's math functions: https://docs.scipy.org/doc/numpy-1.13.0/reference/routines.math.html\n",
    "#please see documentation for full list of all available operations."
   ]
  },
  {
   "cell_type": "code",
   "execution_count": null,
   "metadata": {},
   "outputs": [],
   "source": [
    "#sum example\n",
    "a = np.array(range(1000))\n",
    "b = np.array(range(100))\n",
    "c = np.sum(a)\n",
    "d = np.sum(b)\n",
    "e = c+d\n",
    "print(e)"
   ]
  },
  {
   "cell_type": "code",
   "execution_count": null,
   "metadata": {},
   "outputs": [],
   "source": [
    "np.log(a)\n",
    "#log example"
   ]
  },
  {
   "cell_type": "code",
   "execution_count": null,
   "metadata": {},
   "outputs": [],
   "source": [
    "d = [x for x in range(1000)]\n",
    "#list comprehension syntax---will cover later."
   ]
  },
  {
   "cell_type": "code",
   "execution_count": null,
   "metadata": {},
   "outputs": [],
   "source": [
    "np.add(a, d)\n",
    "#adding example"
   ]
  },
  {
   "cell_type": "markdown",
   "metadata": {},
   "source": [
    "$\\sum_{i = 0}^{n} tan(x_i^{2})$ for all $x_i$'s in X. \n",
    "\n",
    "I would like to compute this formula. Oh no!!! Python to the rescue!!"
   ]
  },
  {
   "cell_type": "code",
   "execution_count": null,
   "metadata": {},
   "outputs": [],
   "source": [
    "complicated = np.sum(np.tan(np.square(d)))\n",
    "complicated\n",
    "#This is called \"currying\" in computer science. Read this to learn more: https://en.wikipedia.org/wiki/Currying"
   ]
  },
  {
   "cell_type": "code",
   "execution_count": null,
   "metadata": {},
   "outputs": [],
   "source": [
    "np.average(d)\n",
    "#average of an array."
   ]
  },
  {
   "cell_type": "code",
   "execution_count": null,
   "metadata": {},
   "outputs": [],
   "source": [
    "np.median(d)\n",
    "#median of an array."
   ]
  },
  {
   "cell_type": "code",
   "execution_count": null,
   "metadata": {},
   "outputs": [],
   "source": [
    "np.nanmax(d)\n",
    "#maximum of array (not including NaN's)"
   ]
  },
  {
   "cell_type": "code",
   "execution_count": null,
   "metadata": {},
   "outputs": [],
   "source": [
    "np.nanstd(d)\n",
    "#std dev of array (not including NaN's)"
   ]
  },
  {
   "cell_type": "code",
   "execution_count": null,
   "metadata": {},
   "outputs": [],
   "source": [
    "np.inner(a, d)\n",
    "#numpy supports inner products."
   ]
  },
  {
   "cell_type": "code",
   "execution_count": null,
   "metadata": {},
   "outputs": [],
   "source": [
    "np.dot(a, d)"
   ]
  },
  {
   "cell_type": "code",
   "execution_count": null,
   "metadata": {},
   "outputs": [],
   "source": [
    "np.outer(a, d)\n",
    "#outer products"
   ]
  },
  {
   "cell_type": "code",
   "execution_count": null,
   "metadata": {},
   "outputs": [],
   "source": [
    "#read more on numpy's linear algebra library here: https://docs.scipy.org/doc/numpy-1.13.0/reference/routines.linalg.html"
   ]
  },
  {
   "cell_type": "code",
   "execution_count": null,
   "metadata": {},
   "outputs": [],
   "source": [
    "np.random.randn()\n",
    "#picks a random sample from the normal distribution."
   ]
  },
  {
   "cell_type": "code",
   "execution_count": null,
   "metadata": {},
   "outputs": [],
   "source": [
    "np.random.randint(0, 100)\n",
    "#returns a random integer from 0 to 100 inclusive."
   ]
  },
  {
   "cell_type": "code",
   "execution_count": null,
   "metadata": {},
   "outputs": [],
   "source": [
    "np.random.uniform(0, 100, 5)\n",
    "#returns a random sample from uniform distribution of size 5 where low is 0 and high is 100."
   ]
  },
  {
   "cell_type": "code",
   "execution_count": null,
   "metadata": {},
   "outputs": [],
   "source": [
    "#more on random sampling in numpy here: https://docs.scipy.org/doc/numpy-1.13.0/reference/routines.random.html"
   ]
  },
  {
   "cell_type": "code",
   "execution_count": null,
   "metadata": {},
   "outputs": [],
   "source": [
    "#next up: Pandas!!! (unfortunately a lot more icky to work with) (Python's big data analysis library)"
   ]
  },
  {
   "cell_type": "code",
   "execution_count": null,
   "metadata": {},
   "outputs": [],
   "source": [
    "anne = pd.read_excel('Anne.xls')\n",
    "#Dataset taken from Economics 121, Industrial Organization and Public Policy, Fall 2018, Homework 2.\n",
    "#We are reading in an excel file and converting it into a pandas dataframe object. This is a tabular, 2-D data structure\n",
    "#similar to a matrix (linear algebra) with rows and columns."
   ]
  },
  {
   "cell_type": "code",
   "execution_count": null,
   "metadata": {},
   "outputs": [],
   "source": [
    "anne"
   ]
  },
  {
   "cell_type": "code",
   "execution_count": null,
   "metadata": {},
   "outputs": [],
   "source": [
    "anne['price ($)'].max()\n",
    "#What is the maximum price somebody paid for Anne's chocolates?"
   ]
  },
  {
   "cell_type": "code",
   "execution_count": null,
   "metadata": {},
   "outputs": [],
   "source": [
    "anne['price ($)'].min()\n",
    "#What is the minimum price somebody paid for Anne's chocolates?"
   ]
  },
  {
   "cell_type": "code",
   "execution_count": null,
   "metadata": {},
   "outputs": [],
   "source": [
    "plt.figure(figsize = (10,5))\n",
    "\n",
    "newdf0 = anne.loc[anne['dayofweek'] == 0]\n",
    "ax = sns.lineplot(x = anne['price ($)'], y = anne['Buy (1=buy, 0=not buy)'], data = newdf0, ci = None)\n",
    "plt.title(\"Propensity to buy vs Price for Anne's chocolates (Monday)\")\n",
    "\n",
    "#demand curve for anne's chocolates on Monday."
   ]
  },
  {
   "cell_type": "code",
   "execution_count": null,
   "metadata": {},
   "outputs": [],
   "source": [
    "plt.figure(figsize = (10,5))\n",
    "newdf1 = anne.loc[anne['dayofweek'] == 1]\n",
    "ay = sns.lineplot(x = anne['price ($)'], y = anne['Buy (1=buy, 0=not buy)'], data = newdf1, ci = None)\n",
    "plt.title(\"Propensity to buy vs Price for Anne's chocolates (Tuesday)\")"
   ]
  },
  {
   "cell_type": "code",
   "execution_count": null,
   "metadata": {},
   "outputs": [],
   "source": [
    "plt.figure(figsize = (10,5))\n",
    "\n",
    "ax = sns.lineplot(x = anne['price ($)'], y = anne['Buy (1=buy, 0=not buy)'], data = anne)\n",
    "\n",
    "plt.title(\"Propensity to buy vs Price for Anne's chocolates (aggregated)\")\n",
    "\n",
    "#This is a line plot of Propensity to buy vs Price for Anne's chocolates, with all price and buy data aggregated, \n",
    "#and not separated by day of week.\n",
    "#Also includes a 95% confidence interval conveniently."
   ]
  },
  {
   "cell_type": "code",
   "execution_count": null,
   "metadata": {},
   "outputs": [],
   "source": [
    "anne['dayofweek'] = anne['dayofweek'].map({'Mon': 0, 'Tue': 1, 'Wed': 2, 'Thu': 3, 'Fri': 4, 'Sat': 5, 'Sun': 6})\n",
    "#convert strings to numbers"
   ]
  },
  {
   "cell_type": "code",
   "execution_count": null,
   "metadata": {},
   "outputs": [],
   "source": [
    "anne"
   ]
  },
  {
   "cell_type": "code",
   "execution_count": null,
   "metadata": {},
   "outputs": [],
   "source": [
    "anne['dayofweek'].isnull()\n",
    "#check for missing values"
   ]
  },
  {
   "cell_type": "code",
   "execution_count": null,
   "metadata": {},
   "outputs": [],
   "source": [
    "anne.groupby('dayofweek').agg('min')\n",
    "#Key function of pandas is filter/groupby/agg---this allows you to combine, get finer/larger granularity in data, as well as keep/drop data that you may not want."
   ]
  },
  {
   "cell_type": "code",
   "execution_count": null,
   "metadata": {},
   "outputs": [],
   "source": [
    "anne.groupby('dayofweek').agg({'price ($)': 'max'})\n",
    "#we can also aggregate only on specific columns of interest."
   ]
  },
  {
   "cell_type": "code",
   "execution_count": null,
   "metadata": {},
   "outputs": [],
   "source": [
    "from sklearn.linear_model import LinearRegression\n",
    "# Linear Regression in python\n",
    "X = np.array([[1, 1], [1, 2], [2, 2], [2, 3]])\n",
    "# y = 1 * x_0 + 2 * x_1 + 3\n",
    "y = np.dot(X, np.array([1, 2])) + 3\n",
    "reg = LinearRegression().fit(X, y)"
   ]
  },
  {
   "cell_type": "code",
   "execution_count": null,
   "metadata": {},
   "outputs": [],
   "source": [
    "reg.score(X, y)"
   ]
  },
  {
   "cell_type": "code",
   "execution_count": null,
   "metadata": {},
   "outputs": [],
   "source": [
    "reg.coef_"
   ]
  },
  {
   "cell_type": "code",
   "execution_count": null,
   "metadata": {},
   "outputs": [],
   "source": [
    "reg.intercept_ "
   ]
  },
  {
   "cell_type": "code",
   "execution_count": null,
   "metadata": {},
   "outputs": [],
   "source": [
    "reg.predict(np.array([[3, 5]]))"
   ]
  },
  {
   "cell_type": "code",
   "execution_count": null,
   "metadata": {},
   "outputs": [],
   "source": [
    "from sklearn.linear_model import LogisticRegression\n",
    "X = np.array(object = anne['mobile (1=mobile, 0=not)'][0:50]).reshape(-1, 1)\n",
    "y = np.array(object = anne['price ($)'][0:50]).reshape(-1,1)\n",
    "logit = LogisticRegression()\n",
    "model = logit.fit(y, X)\n",
    "#naive implementation of logistic regression model---I am creating training data by simply taking the first 50 entries in price and mobile columns\n",
    "#I will discuss why this is bad."
   ]
  },
  {
   "cell_type": "code",
   "execution_count": null,
   "metadata": {},
   "outputs": [],
   "source": [
    "model.predict(np.array(object = anne['price ($)'][50:]).reshape(-1,1))\n",
    "#Any guesses on output?"
   ]
  },
  {
   "cell_type": "code",
   "execution_count": null,
   "metadata": {},
   "outputs": [],
   "source": [
    "#confirmation of our result and intuition"
   ]
  },
  {
   "cell_type": "code",
   "execution_count": null,
   "metadata": {},
   "outputs": [],
   "source": [
    "sns.boxplot(x = np.array(object = anne['mobile (1=mobile, 0=not)'][50:]), y = np.array(object = anne['price ($)'][50:]))"
   ]
  }
 ],
 "metadata": {
  "kernelspec": {
   "display_name": "Python 3",
   "language": "python",
   "name": "python3"
  },
  "language_info": {
   "codemirror_mode": {
    "name": "ipython",
    "version": 3
   },
   "file_extension": ".py",
   "mimetype": "text/x-python",
   "name": "python",
   "nbconvert_exporter": "python",
   "pygments_lexer": "ipython3",
   "version": "3.6.5"
  }
 },
 "nbformat": 4,
 "nbformat_minor": 2
}
